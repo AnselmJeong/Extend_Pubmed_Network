{
 "cells": [
  {
   "cell_type": "code",
   "execution_count": 1,
   "metadata": {},
   "outputs": [],
   "source": [
    "from metapub import PubMedFetcher\n",
    "from dotenv import load_dotenv\n",
    "import os\n",
    "from utils import peep\n",
    "import tqdm\n",
    "import time\n",
    "\n",
    "load_dotenv()\n",
    "\n",
    "fetcher = PubMedFetcher(cachedir=\"./.cache/\")\n"
   ]
  },
  {
   "cell_type": "code",
   "execution_count": 2,
   "metadata": {},
   "outputs": [],
   "source": [
    "SEED_PMID = 31875792\n"
   ]
  },
  {
   "cell_type": "code",
   "execution_count": 3,
   "metadata": {},
   "outputs": [],
   "source": [
    "class Article:\n",
    "    def __init__(self, pmid: str | int, include_bib: bool = False):\n",
    "        if isinstance(pmid, int):\n",
    "            pmid = str(pmid)\n",
    "\n",
    "        if include_bib:\n",
    "            article = fetcher.article_by_pmid(pmid)\n",
    "            self.bib = {\n",
    "                key: getattr(article, key)\n",
    "                for key in [\n",
    "                    \"authors_str\",\n",
    "                    \"title\",\n",
    "                    \"doi\",\n",
    "                    \"year\",\n",
    "                    \"journal\",\n",
    "                    \"keywords\",\n",
    "                    \"abstract\",\n",
    "                ]\n",
    "            }\n",
    "\n",
    "        related = fetcher.related_pmids(pmid)\n",
    "        self.related = {key: related.get(key, []) for key in [\"pubmed\", \"citedin\", \"refs\"]}\n",
    "\n",
    "\n",
    "seed_articles = [Article(SEED_PMID, include_bib=True)]\n"
   ]
  },
  {
   "cell_type": "code",
   "execution_count": 4,
   "metadata": {},
   "outputs": [],
   "source": [
    "def combine_pmids(articles: list[Article], topk: int = 10) -> set[str]:\n",
    "    pmid_set = set()\n",
    "    for article in articles:\n",
    "        pmid_set |= set(article.related[\"pubmed\"][:topk])\n",
    "    return pmid_set"
   ]
  },
  {
   "cell_type": "code",
   "execution_count": 8,
   "metadata": {},
   "outputs": [
    {
     "name": "stderr",
     "output_type": "stream",
     "text": [
      "100%|██████████| 1/1 [00:04<00:00,  4.10s/it]"
     ]
    },
    {
     "name": "stdout",
     "output_type": "stream",
     "text": [
      "Failed to fetch article <__main__.Article object at 0x12104d400> after 3 attempts: Error parsing response object from NCBI: OK (200): NCBI C++ Exception:\n",
      "    Error: TXCLIENT(CException::eUnknown) \"/pubmed_gen/rbuild/version/20240724/entrez/2.19/src/internal/txclient/TxClient.cpp\", line 1045: ncbi::CTxRawClientImpl::readAll() --- Read failed: EOF (the other side has unexpectedly closed connection), peer: 130.14.18.59:8064\n",
      "\n"
     ]
    },
    {
     "name": "stderr",
     "output_type": "stream",
     "text": [
      "\n"
     ]
    }
   ],
   "source": [
    "def extend_pmid_set(pmid_set: set[str], topk: int = 10, max_retries: int = 3) -> list[Article]:\n",
    "    extended_articles = []\n",
    "\n",
    "    for pmid in tqdm.tqdm(pmid_set):\n",
    "        for attempt in range(max_retries):\n",
    "            try:\n",
    "                article = Article(pmid)\n",
    "                time.sleep(1)\n",
    "                extended_articles.append(article)\n",
    "                break\n",
    "            except Exception as e:\n",
    "                if attempt == max_retries - 1:\n",
    "                    print(f\"Failed to fetch article {pmid} after {max_retries} attempts: {str(e)}\")\n",
    "                else:\n",
    "                    time.sleep(1)  # Wait 1 second before retrying\n",
    "\n",
    "    pmid_set = set()\n",
    "    for article in extended_articles:\n",
    "        pmid_set |= set(article.related[\"pubmed\"][:topk])\n",
    "\n",
    "    if len(pmid_set) < 20 and pmid_set:  # Check if we have any articles\n",
    "        try:\n",
    "            print(f\"Length of extended_articles: {len(pmid_set)}\")\n",
    "            return extend_pmid_set(pmid_set, topk)\n",
    "        except Exception as e:\n",
    "            print(f\"Stopping recursion due to error: {str(e)}\")\n",
    "            return pmid_set\n",
    "\n",
    "    return pmid_set\n",
    "\n",
    "\n",
    "# Usage\n",
    "final_articles = extend_pmid_set(seed_articles, topk=10)\n"
   ]
  },
  {
   "cell_type": "code",
   "execution_count": null,
   "metadata": {},
   "outputs": [],
   "source": [
    "len(combine_pmids(final_articles, topk=10))"
   ]
  },
  {
   "cell_type": "code",
   "execution_count": null,
   "metadata": {},
   "outputs": [],
   "source": [
    "seed_articles"
   ]
  },
  {
   "cell_type": "code",
   "execution_count": null,
   "metadata": {},
   "outputs": [],
   "source": []
  }
 ],
 "metadata": {
  "kernelspec": {
   "display_name": ".venv",
   "language": "python",
   "name": "python3"
  },
  "language_info": {
   "codemirror_mode": {
    "name": "ipython",
    "version": 3
   },
   "file_extension": ".py",
   "mimetype": "text/x-python",
   "name": "python",
   "nbconvert_exporter": "python",
   "pygments_lexer": "ipython3",
   "version": "3.13.1"
  }
 },
 "nbformat": 4,
 "nbformat_minor": 2
}
